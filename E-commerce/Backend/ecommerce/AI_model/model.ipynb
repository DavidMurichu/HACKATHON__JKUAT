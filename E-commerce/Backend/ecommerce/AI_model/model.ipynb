{
 "cells": [
  {
   "cell_type": "code",
   "execution_count": null,
   "metadata": {},
   "outputs": [],
   "source": [
    "\n",
    "import numpy as np\n",
    "import pandas as pd\n",
    "from matplotlib import pyplot as plt\n",
    "import plotly.graph_objects as go\n",
    "from plotly.subplots import make_subplots\n",
    "import seaborn as sns\n",
    "\n",
    "from lightgbm import LGBMRegressor\n",
    "from lightgbm import early_stopping, log_evaluation\n",
    "\n",
    "import warnings\n",
    "warnings.filterwarnings(\"ignore\")"
   ]
  },
  {
   "cell_type": "code",
   "execution_count": null,
   "metadata": {},
   "outputs": [],
   "source": [
    "pd.set_option(\"display.max_columns\", None)\n",
    "pd.set_option(\"display.width\", 500)"
   ]
  },
  {
   "cell_type": "code",
   "execution_count": null,
   "metadata": {},
   "outputs": [],
   "source": [
    "def load():\n",
    "    train = pd.read_csv(\"Data/train.csv\", parse_dates=[\"date\"])\n",
    "    test = pd.read_csv(\"Data/test.csv\", parse_dates=[\"date\"])\n",
    "\n",
    "    sample_sub = pd.read_csv(\"Data/sample_submission.csv\")\n",
    "\n",
    "    df = pd.concat([train, test], sort=False)\n",
    "\n",
    "    return df, train, test, sample_sub\n",
    "\n",
    "df, train, test, sample_sub = load()"
   ]
  },
  {
   "cell_type": "code",
   "execution_count": null,
   "metadata": {},
   "outputs": [],
   "source": [
    "df.head(10)"
   ]
  },
  {
   "cell_type": "code",
   "execution_count": null,
   "metadata": {},
   "outputs": [],
   "source": [
    "df.tail(10)"
   ]
  },
  {
   "cell_type": "code",
   "execution_count": null,
   "metadata": {},
   "outputs": [],
   "source": [
    "def check_df(dataframe, head=5):\n",
    "    print(\"##################### Shape #####################\")\n",
    "    print(dataframe.shape)\n",
    "    print(\"##################### Types #####################\")\n",
    "    print(dataframe.dtypes)\n",
    "    print(\"##################### Unique #####################\")\n",
    "    print(dataframe.nunique())\n",
    "    print(\"##################### Head #####################\")\n",
    "    print(dataframe.head(head))\n",
    "    print(\"##################### Tail #####################\")\n",
    "    print(dataframe.tail(head))\n",
    "    print(\"##################### NA #####################\")\n",
    "    print(dataframe.isnull().sum())"
   ]
  },
  {
   "cell_type": "code",
   "execution_count": null,
   "metadata": {},
   "outputs": [],
   "source": [
    "check_df(df)"
   ]
  },
  {
   "cell_type": "code",
   "execution_count": null,
   "metadata": {},
   "outputs": [],
   "source": [
    "df.groupby([\"store\"])[\"item\"].nunique()"
   ]
  },
  {
   "cell_type": "code",
   "execution_count": null,
   "metadata": {},
   "outputs": [],
   "source": [
    "df.groupby([\"store\", \"item\"]).agg({\"sales\": [\"sum\", \"mean\", \"median\", \"std\"]})"
   ]
  },
  {
   "cell_type": "code",
   "execution_count": null,
   "metadata": {},
   "outputs": [],
   "source": [
    "df.describe([0, 0.05, 0.50, 0.95, 0.99, 1]).T"
   ]
  },
  {
   "cell_type": "code",
   "execution_count": null,
   "metadata": {},
   "outputs": [],
   "source": [
    "def create_date_features(df):\n",
    "    df[\"month\"] = df.date.dt.month\n",
    "    df[\"day_of_month\"] = df.date.dt.day\n",
    "    df[\"day_of_year\"] = df.date.dt.dayofyear\n",
    "    df[\"week_of_year\"] = df.date.dt.isocalendar().week\n",
    "    df[\"day_of_week\"] = df.date.dt.dayofweek\n",
    "    df[\"year\"] = df.date.dt.year\n",
    "    df[\"is_wknd\"] = df.date.dt.weekday // 4\n",
    "    df[\"is_month_start\"] = df.date.dt.is_month_start.astype(int)\n",
    "    df[\"is_month_end\"] = df.date.dt.is_month_end.astype(int)\n",
    "    return df"
   ]
  },
  {
   "cell_type": "code",
   "execution_count": null,
   "metadata": {},
   "outputs": [],
   "source": [
    "df = create_date_features(df)\n",
    "df"
   ]
  },
  {
   "cell_type": "code",
   "execution_count": null,
   "metadata": {},
   "outputs": [],
   "source": [
    "print(\"##################### Shape #####################\")\n",
    "print(df.shape)\n",
    "print(\"##################### Types #####################\")\n",
    "print(df.dtypes)"
   ]
  },
  {
   "cell_type": "code",
   "execution_count": null,
   "metadata": {},
   "outputs": [],
   "source": [
    "def random_noise(dataframe):\n",
    "    return np.random.normal(scale=1.6, size=(len(dataframe)))"
   ]
  },
  {
   "cell_type": "code",
   "execution_count": null,
   "metadata": {},
   "outputs": [],
   "source": [
    "def lag_features(dataframe, lags):\n",
    "    for lag in lags:\n",
    "        dataframe[\"sales_lag_\" + str(lag)] = dataframe.groupby([\"store\", \"item\"])[\"sales\"].transform(\n",
    "            lambda x: x.shift(lag)) + random_noise(dataframe)\n",
    "    return dataframe"
   ]
  },
  {
   "cell_type": "code",
   "execution_count": null,
   "metadata": {},
   "outputs": [],
   "source": [
    "df = lag_features(df, [91, 98, 105, 112, 119, 126, 182, 364, 546, 728])\n",
    "df"
   ]
  },
  {
   "cell_type": "code",
   "execution_count": null,
   "metadata": {},
   "outputs": [],
   "source": [
    "print(\"##################### Shape #####################\")\n",
    "print(df.shape)\n",
    "print(\"##################### Types #####################\")\n",
    "print(df.dtypes)"
   ]
  },
  {
   "cell_type": "code",
   "execution_count": null,
   "metadata": {},
   "outputs": [],
   "source": [
    "def roll_mean_features(dataframe, windows):\n",
    "    for window in windows:\n",
    "        dataframe[\"sales_roll_mean_\" + str(window)] = dataframe.groupby([\"store\", \"item\"])[\"sales\"]. \\\n",
    "                                                          transform(\n",
    "            lambda x: x.shift(1).rolling(window=window, min_periods=10, win_type=\"triang\").mean()) + random_noise(\n",
    "            dataframe)\n",
    "    return dataframe"
   ]
  },
  {
   "cell_type": "code",
   "execution_count": null,
   "metadata": {},
   "outputs": [],
   "source": [
    "df = roll_mean_features(df, [365, 546])\n",
    "df"
   ]
  },
  {
   "cell_type": "code",
   "execution_count": null,
   "metadata": {},
   "outputs": [],
   "source": [
    "print(\"##################### Shape #####################\")\n",
    "print(df.shape)\n",
    "print(\"##################### Types #####################\")\n",
    "print(df.dtypes)"
   ]
  },
  {
   "cell_type": "code",
   "execution_count": null,
   "metadata": {},
   "outputs": [],
   "source": [
    "def ewm_features(dataframe, alphas, lags):\n",
    "    for alpha in alphas:\n",
    "        for lag in lags:\n",
    "            dataframe[\"sales_ewm_alpha_\" + str(alpha).replace(\".\", \"\") + \"_lag_\" + str(lag)] = \\\n",
    "                dataframe.groupby([\"store\", \"item\"])[\"sales\"].transform(lambda x: x.shift(lag).ewm(alpha=alpha).mean())\n",
    "    return dataframe"
   ]
  },
  {
   "cell_type": "code",
   "execution_count": null,
   "metadata": {},
   "outputs": [],
   "source": [
    "alphas = [0.95, 0.9, 0.8, 0.7, 0.5]\n",
    "lags = [91, 98, 105, 112, 180, 270, 365, 546, 728]\n",
    "\n",
    "df = ewm_features(df, alphas, lags)\n",
    "df"
   ]
  },
  {
   "cell_type": "code",
   "execution_count": null,
   "metadata": {},
   "outputs": [],
   "source": [
    "print(\"##################### Shape #####################\")\n",
    "print(df.shape)\n",
    "print(\"##################### Types #####################\")\n",
    "print(df.dtypes)"
   ]
  },
  {
   "cell_type": "code",
   "execution_count": null,
   "metadata": {},
   "outputs": [],
   "source": [
    "df = pd.get_dummies(df, columns=[\"store\", \"item\", \"day_of_week\", \"month\"], drop_first=True, dtype=int)\n",
    "df"
   ]
  },
  {
   "cell_type": "code",
   "execution_count": null,
   "metadata": {},
   "outputs": [],
   "source": [
    "df[\"sales\"] = np.log1p(df[\"sales\"].values)\n",
    "df"
   ]
  },
  {
   "cell_type": "code",
   "execution_count": null,
   "metadata": {},
   "outputs": [],
   "source": [
    "# Train set until the beginning of 2017 (end of 2016)\n",
    "train = df.loc[(df[\"date\"] < \"2017-01-01\"), :]\n",
    "\n",
    "# Validation set for the first 3 months of 2017. Because the date range we need to forecast is the first 3 months of 2018.\n",
    "val = df.loc[(df[\"date\"] >= \"2017-01-01\") & (df[\"date\"] < \"2017-04-01\"), :]"
   ]
  },
  {
   "cell_type": "code",
   "execution_count": null,
   "metadata": {},
   "outputs": [],
   "source": [
    "cols = [col for col in train.columns if col not in [\"date\", \"id\", \"sales\", \"year\"]]\n",
    "\n",
    "y_train = train[\"sales\"]\n",
    "X_train = train[cols]\n",
    "\n",
    "y_val = val[\"sales\"]\n",
    "X_val = val[cols]\n",
    "\n",
    "y_train.shape, X_train.shape, y_val.shape, X_val.shape"
   ]
  },
  {
   "cell_type": "code",
   "execution_count": null,
   "metadata": {},
   "outputs": [],
   "source": [
    "def smape(y_pred, y_true):\n",
    "    y_true, y_pred = np.array(y_true), np.array(y_pred)\n",
    "    n = len(y_true)\n",
    "    masked_arr = ~((y_pred == 0) & (y_true == 0))\n",
    "    y_pred, y_true = y_pred[masked_arr], y_true[masked_arr]\n",
    "    num = np.abs(y_pred - y_true)\n",
    "    denom = np.abs(y_pred) + np.abs(y_true)\n",
    "    smape_val = (200 * np.sum(num / denom)) / n\n",
    "    return smape_val\n",
    "\n",
    "def lgbm_smape(y_pred, y_true):\n",
    "    smape_val = smape(np.expm1(y_true), np.expm1(y_pred))\n",
    "    return \"SMAPE\", smape_val, False"
   ]
  },
  {
   "cell_type": "code",
   "execution_count": null,
   "metadata": {},
   "outputs": [],
   "source": [
    "model = LGBMRegressor(num_leaves=10,\n",
    "                      learning_rate=0.02,\n",
    "                      feature_fraction=0.8,\n",
    "                      max_depth=5,\n",
    "                      n_estimators=10000,\n",
    "                      n_jobs=-1,\n",
    "                      random_state=42,\n",
    "                      force_col_wise=True)\n",
    "\n",
    "es = early_stopping(stopping_rounds=200, verbose=True)\n",
    "le = log_evaluation(period=100)"
   ]
  },
  {
   "cell_type": "code",
   "execution_count": null,
   "metadata": {},
   "outputs": [],
   "source": [
    "model.fit(X_train, y_train,\n",
    "          eval_set=[(X_train, y_train), (X_val, y_val)],\n",
    "          eval_metric=lgbm_smape,\n",
    "          callbacks=[es, le])"
   ]
  },
  {
   "cell_type": "markdown",
   "metadata": {},
   "source": []
  },
  {
   "cell_type": "markdown",
   "metadata": {},
   "source": []
  }
 ],
 "metadata": {
  "kernelspec": {
   "display_name": "Python 3 (ipykernel)",
   "language": "python",
   "name": "python3"
  },
  "language_info": {
   "codemirror_mode": {
    "name": "ipython",
    "version": 3
   },
   "file_extension": ".py",
   "mimetype": "text/x-python",
   "name": "python",
   "nbconvert_exporter": "python",
   "pygments_lexer": "ipython3",
   "version": "3.10.12"
  }
 },
 "nbformat": 4,
 "nbformat_minor": 4
}
